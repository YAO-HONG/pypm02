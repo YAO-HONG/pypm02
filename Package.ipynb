{
 "cells": [
  {
   "cell_type": "code",
   "execution_count": 1,
   "id": "41e1b23b",
   "metadata": {},
   "outputs": [
    {
     "name": "stdout",
     "output_type": "stream",
     "text": [
      "runpython6.py's name is yourpack.runpython6\n"
     ]
    }
   ],
   "source": [
    "from yourpack.runpython6 import *\n",
    "from yourpack.yourturn_4_5m import *"
   ]
  },
  {
   "cell_type": "code",
   "execution_count": 2,
   "id": "7b8eb10f",
   "metadata": {},
   "outputs": [
    {
     "name": "stdout",
     "output_type": "stream",
     "text": [
      "<class 'yourpack.runpython6.TreesCounter2'>\n",
      "<class 'yourpack.yourturn_4_5m.CKDStager'>\n"
     ]
    }
   ],
   "source": [
    "print(TreesCounter2)\n",
    "print(CKDStager)"
   ]
  },
  {
   "cell_type": "code",
   "execution_count": 1,
   "id": "6aa8062b",
   "metadata": {},
   "outputs": [
    {
     "ename": "ModuleNotFoundError",
     "evalue": "No module named 'yourpack'",
     "output_type": "error",
     "traceback": [
      "\u001b[1;31m---------------------------------------------------------------------------\u001b[0m",
      "\u001b[1;31mModuleNotFoundError\u001b[0m                       Traceback (most recent call last)",
      "\u001b[1;32m<ipython-input-1-604f3ab31778>\u001b[0m in \u001b[0;36m<module>\u001b[1;34m\u001b[0m\n\u001b[1;32m----> 1\u001b[1;33m \u001b[1;32mfrom\u001b[0m \u001b[0myourpack\u001b[0m\u001b[1;33m.\u001b[0m\u001b[0mrunpython6\u001b[0m \u001b[1;32mimport\u001b[0m \u001b[1;33m*\u001b[0m\u001b[1;33m\u001b[0m\u001b[1;33m\u001b[0m\u001b[0m\n\u001b[0m\u001b[0;32m      2\u001b[0m \u001b[1;32mfrom\u001b[0m \u001b[0myourpack\u001b[0m\u001b[1;33m.\u001b[0m\u001b[0myourturn_4_5m\u001b[0m \u001b[1;32mimport\u001b[0m \u001b[1;33m*\u001b[0m\u001b[1;33m\u001b[0m\u001b[1;33m\u001b[0m\u001b[0m\n",
      "\u001b[1;31mModuleNotFoundError\u001b[0m: No module named 'yourpack'"
     ]
    }
   ],
   "source": [
    "from yourpack.runpython6 import *\n",
    "from yourpack.yourturn_4_5m import *"
   ]
  },
  {
   "cell_type": "code",
   "execution_count": 2,
   "id": "53ed9c31",
   "metadata": {},
   "outputs": [
    {
     "name": "stdout",
     "output_type": "stream",
     "text": [
      "runpython6.py's name is yourpack.runpython6\n"
     ]
    }
   ],
   "source": [
    "import sys, os\n",
    "sys.path.append(os.path.join('.', 'mypath'))\n",
    "from yourpack.runpython6 import *\n",
    "from yourpack.yourturn_4_5m import *"
   ]
  },
  {
   "cell_type": "code",
   "execution_count": 3,
   "id": "1ae552d3",
   "metadata": {},
   "outputs": [
    {
     "name": "stdout",
     "output_type": "stream",
     "text": [
      "<class 'yourpack.runpython6.TreesCounter2'>\n",
      "<class 'yourpack.yourturn_4_5m.CKDStager'>\n"
     ]
    }
   ],
   "source": [
    "print(TreesCounter2)\n",
    "print(CKDStager)"
   ]
  },
  {
   "cell_type": "code",
   "execution_count": null,
   "id": "89509aeb",
   "metadata": {},
   "outputs": [],
   "source": []
  }
 ],
 "metadata": {
  "kernelspec": {
   "display_name": "Python 3",
   "language": "python",
   "name": "python3"
  },
  "language_info": {
   "codemirror_mode": {
    "name": "ipython",
    "version": 3
   },
   "file_extension": ".py",
   "mimetype": "text/x-python",
   "name": "python",
   "nbconvert_exporter": "python",
   "pygments_lexer": "ipython3",
   "version": "3.6.8"
  }
 },
 "nbformat": 4,
 "nbformat_minor": 5
}
