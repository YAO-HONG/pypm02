{
 "cells": [
  {
   "cell_type": "code",
   "execution_count": 1,
   "metadata": {},
   "outputs": [
    {
     "name": "stdout",
     "output_type": "stream",
     "text": [
      "E:\\pypm02\n",
      "['.ipynb_checkpoints', 'File_Directory.ipynb', 'File_Operation.ipynb', 'homework_1-1.ipynb', 'homework_1-2.ipynb', 'homework_2-1.ipynb', 'homework_2-2.ipynb', 'import_time.ipynb', 'orders.csv', 'pypm.ipynb', 'pypmenv', 'reading.txt', 'reading_2.txt', 'test.ipynb', 'test.txt', 'titanic.csv', 'titanic_train.csv', 'trees', 'yourturn_1-1.ipynb', 'yourturn_1-2.ipynb', 'yourturn_1-3.ipynb', 'yourturn_1-4.ipynb', 'yourturn_1-5.ipynb', 'yourturn_1-6.ipynb', 'yourturn_2-1.ipynb', 'yourturn_2-10.ipynb', 'yourturn_2-11.ipynb', 'yourturn_2-12.ipynb', 'yourturn_2-13.ipynb', 'yourturn_2-14.ipynb', 'yourturn_2-15.ipynb', 'yourturn_2-16.ipynb', 'yourturn_2-17.ipynb', 'yourturn_2-2.ipynb', 'yourturn_2-3.ipynb', 'yourturn_2-4.ipynb', 'yourturn_2-5.ipynb', 'yourturn_2-6.ipynb', 'yourturn_2-7.ipynb', 'yourturn_2-8.ipynb', 'yourturn_2-9.ipynb', 'yourturn_3-1.ipynb', 'yourturn_3-2.ipynb', 'yourturn_3-3.ipynb', 'yourturn_3-4.ipynb']\n"
     ]
    }
   ],
   "source": [
    "import os\n",
    "\n",
    "print(os.getcwd())\n",
    "print(os.listdir())"
   ]
  },
  {
   "cell_type": "code",
   "execution_count": 2,
   "metadata": {},
   "outputs": [
    {
     "name": "stdout",
     "output_type": "stream",
     "text": [
      "trees\\train\\tree\\FM\\2019-10-03-11-00-11_336_56.jpg\n",
      "E:\\pypm02\\trees\\train\\tree\\FM\\2019-10-03-11-00-11_336_56.jpg\n",
      "True\n"
     ]
    }
   ],
   "source": [
    "f = os.path.join('trees', 'train', 'tree', 'FM', '2019-10-03-11-00-11_336_56.jpg')\n",
    "print(f)\n",
    "print(os.path.abspath(f))\n",
    "print(os.path.exists(f))"
   ]
  },
  {
   "cell_type": "code",
   "execution_count": null,
   "metadata": {},
   "outputs": [],
   "source": []
  }
 ],
 "metadata": {
  "kernelspec": {
   "display_name": "Python 3",
   "language": "python",
   "name": "python3"
  },
  "language_info": {
   "codemirror_mode": {
    "name": "ipython",
    "version": 3
   },
   "file_extension": ".py",
   "mimetype": "text/x-python",
   "name": "python",
   "nbconvert_exporter": "python",
   "pygments_lexer": "ipython3",
   "version": "3.6.8"
  }
 },
 "nbformat": 4,
 "nbformat_minor": 2
}
