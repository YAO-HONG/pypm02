{
 "cells": [
  {
   "cell_type": "code",
   "execution_count": 1,
   "id": "923aa01a",
   "metadata": {},
   "outputs": [
    {
     "name": "stdout",
     "output_type": "stream",
     "text": [
      "2 期\n"
     ]
    }
   ],
   "source": [
    "egfr = 85\n",
    "d = {0: '正常', 1: '1 期', 2: '2 期', 3: '3 期', 4: '4 期'}\n",
    "a = 0\n",
    "a += int(100 >= egfr >= 90)\n",
    "a += int(90 > egfr >= 60) * 2\n",
    "a += int(60 > egfr >= 30) * 3\n",
    "a += int(30 > egfr >= 15) * 4\n",
    "a += int(egfr < 15) * 5\n",
    "print(d[a])"
   ]
  },
  {
   "cell_type": "code",
   "execution_count": null,
   "id": "cb23951a",
   "metadata": {},
   "outputs": [],
   "source": []
  }
 ],
 "metadata": {
  "kernelspec": {
   "display_name": "Python 3",
   "language": "python",
   "name": "python3"
  },
  "language_info": {
   "codemirror_mode": {
    "name": "ipython",
    "version": 3
   },
   "file_extension": ".py",
   "mimetype": "text/x-python",
   "name": "python",
   "nbconvert_exporter": "python",
   "pygments_lexer": "ipython3",
   "version": "3.6.8"
  }
 },
 "nbformat": 4,
 "nbformat_minor": 5
}
