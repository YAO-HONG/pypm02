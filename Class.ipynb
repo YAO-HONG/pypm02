{
 "cells": [
  {
   "cell_type": "code",
   "execution_count": 1,
   "id": "85f30d23",
   "metadata": {},
   "outputs": [
    {
     "name": "stdout",
     "output_type": "stream",
     "text": [
      "tree DR: 105\n",
      "leaf AE: 189\n"
     ]
    }
   ],
   "source": [
    "import os\n",
    "from glob import glob\n",
    "\n",
    "path = 'trees'\n",
    "\n",
    "w = os.path.join(path, 'train', 'tree', 'DR', '*.jpg')\n",
    "count = len(glob(w))\n",
    "print(f\"tree DR: {count}\")\n",
    "    \n",
    "w = os.path.join(path, 'train', 'leaf', 'AE', '*.jpg')\n",
    "count = len(glob(w))\n",
    "print(f\"leaf AE: {count}\")"
   ]
  },
  {
   "cell_type": "code",
   "execution_count": 42,
   "id": "5ca529b6",
   "metadata": {},
   "outputs": [
    {
     "name": "stdout",
     "output_type": "stream",
     "text": [
      "tree DR: 105\n",
      "leaf AE: 189\n"
     ]
    }
   ],
   "source": [
    "import os\n",
    "from glob import glob\n",
    "\n",
    "def count(path, stage, model, cat):\n",
    "    w = os.path.join(path, stage, model, cat, '*.jpg')\n",
    "    count = len(glob(w))\n",
    "    \n",
    "    return count\n",
    "\n",
    "path = 'trees'\n",
    "print(f\"tree DR: {count(path, 'train', 'tree', 'DR')}\")\n",
    "print(f\"leaf AE: {count(path, 'train', 'leaf', 'AE')}\")"
   ]
  },
  {
   "cell_type": "code",
   "execution_count": 4,
   "id": "c801da30",
   "metadata": {},
   "outputs": [
    {
     "name": "stdout",
     "output_type": "stream",
     "text": [
      "3\n"
     ]
    }
   ],
   "source": [
    "#a = [1, 2, 3, 1, 5, 1, 7]\n",
    "a = list([1, 2, 3, 1, 5, 1, 7])\n",
    "print(a.count(1))"
   ]
  },
  {
   "cell_type": "code",
   "execution_count": 9,
   "id": "71b2208e",
   "metadata": {},
   "outputs": [
    {
     "name": "stdout",
     "output_type": "stream",
     "text": [
      "2\n"
     ]
    }
   ],
   "source": [
    "#b = 'this is'\n",
    "b = str('this is')\n",
    "print(b.count('is'))"
   ]
  },
  {
   "cell_type": "code",
   "execution_count": 24,
   "id": "bc1434a8",
   "metadata": {},
   "outputs": [
    {
     "name": "stdout",
     "output_type": "stream",
     "text": [
      "Help on list object:\n",
      "\n",
      "class list(object)\n",
      " |  list() -> new empty list\n",
      " |  list(iterable) -> new list initialized from iterable's items\n",
      " |  \n",
      " |  Methods defined here:\n",
      " |  \n",
      " |  __add__(self, value, /)\n",
      " |      Return self+value.\n",
      " |  \n",
      " |  __contains__(self, key, /)\n",
      " |      Return key in self.\n",
      " |  \n",
      " |  __delitem__(self, key, /)\n",
      " |      Delete self[key].\n",
      " |  \n",
      " |  __eq__(self, value, /)\n",
      " |      Return self==value.\n",
      " |  \n",
      " |  __ge__(self, value, /)\n",
      " |      Return self>=value.\n",
      " |  \n",
      " |  __getattribute__(self, name, /)\n",
      " |      Return getattr(self, name).\n",
      " |  \n",
      " |  __getitem__(...)\n",
      " |      x.__getitem__(y) <==> x[y]\n",
      " |  \n",
      " |  __gt__(self, value, /)\n",
      " |      Return self>value.\n",
      " |  \n",
      " |  __iadd__(self, value, /)\n",
      " |      Implement self+=value.\n",
      " |  \n",
      " |  __imul__(self, value, /)\n",
      " |      Implement self*=value.\n",
      " |  \n",
      " |  __init__(self, /, *args, **kwargs)\n",
      " |      Initialize self.  See help(type(self)) for accurate signature.\n",
      " |  \n",
      " |  __iter__(self, /)\n",
      " |      Implement iter(self).\n",
      " |  \n",
      " |  __le__(self, value, /)\n",
      " |      Return self<=value.\n",
      " |  \n",
      " |  __len__(self, /)\n",
      " |      Return len(self).\n",
      " |  \n",
      " |  __lt__(self, value, /)\n",
      " |      Return self<value.\n",
      " |  \n",
      " |  __mul__(self, value, /)\n",
      " |      Return self*value.\n",
      " |  \n",
      " |  __ne__(self, value, /)\n",
      " |      Return self!=value.\n",
      " |  \n",
      " |  __new__(*args, **kwargs) from builtins.type\n",
      " |      Create and return a new object.  See help(type) for accurate signature.\n",
      " |  \n",
      " |  __repr__(self, /)\n",
      " |      Return repr(self).\n",
      " |  \n",
      " |  __reversed__(...)\n",
      " |      L.__reversed__() -- return a reverse iterator over the list\n",
      " |  \n",
      " |  __rmul__(self, value, /)\n",
      " |      Return value*self.\n",
      " |  \n",
      " |  __setitem__(self, key, value, /)\n",
      " |      Set self[key] to value.\n",
      " |  \n",
      " |  __sizeof__(...)\n",
      " |      L.__sizeof__() -- size of L in memory, in bytes\n",
      " |  \n",
      " |  append(...)\n",
      " |      L.append(object) -> None -- append object to end\n",
      " |  \n",
      " |  clear(...)\n",
      " |      L.clear() -> None -- remove all items from L\n",
      " |  \n",
      " |  copy(...)\n",
      " |      L.copy() -> list -- a shallow copy of L\n",
      " |  \n",
      " |  count(...)\n",
      " |      L.count(value) -> integer -- return number of occurrences of value\n",
      " |  \n",
      " |  extend(...)\n",
      " |      L.extend(iterable) -> None -- extend list by appending elements from the iterable\n",
      " |  \n",
      " |  index(...)\n",
      " |      L.index(value, [start, [stop]]) -> integer -- return first index of value.\n",
      " |      Raises ValueError if the value is not present.\n",
      " |  \n",
      " |  insert(...)\n",
      " |      L.insert(index, object) -- insert object before index\n",
      " |  \n",
      " |  pop(...)\n",
      " |      L.pop([index]) -> item -- remove and return item at index (default last).\n",
      " |      Raises IndexError if list is empty or index is out of range.\n",
      " |  \n",
      " |  remove(...)\n",
      " |      L.remove(value) -> None -- remove first occurrence of value.\n",
      " |      Raises ValueError if the value is not present.\n",
      " |  \n",
      " |  reverse(...)\n",
      " |      L.reverse() -- reverse *IN PLACE*\n",
      " |  \n",
      " |  sort(...)\n",
      " |      L.sort(key=None, reverse=False) -> None -- stable sort *IN PLACE*\n",
      " |  \n",
      " |  ----------------------------------------------------------------------\n",
      " |  Data and other attributes defined here:\n",
      " |  \n",
      " |  __hash__ = None\n",
      "\n"
     ]
    }
   ],
   "source": [
    "help(a)"
   ]
  },
  {
   "cell_type": "code",
   "execution_count": 73,
   "id": "eb6632ee",
   "metadata": {},
   "outputs": [
    {
     "name": "stdout",
     "output_type": "stream",
     "text": [
      "tree DR: 105\n",
      "leaf AE: 189\n"
     ]
    }
   ],
   "source": [
    "import os\n",
    "from glob import glob\n",
    "\n",
    "class TreesCounter1:\n",
    "    _path = None\n",
    "    \n",
    "    def __init__(self, path):\n",
    "        self._path = path\n",
    "\n",
    "    def count(self, stage, model, cat):\n",
    "        w = os.path.join(self._path, stage, model, cat, '*.jpg')\n",
    "        count = len(glob(w))\n",
    "        \n",
    "        return count\n",
    "    \n",
    "t1 = TreesCounter1('trees')\n",
    "print(f\"tree DR: {t1.count('train', 'tree', 'DR')}\")\n",
    "print(f\"leaf AE: {t1.count('train', 'leaf', 'AE')}\")"
   ]
  },
  {
   "cell_type": "code",
   "execution_count": 62,
   "id": "c8428450",
   "metadata": {},
   "outputs": [
    {
     "name": "stdout",
     "output_type": "stream",
     "text": [
      "<class 'int'> <class 'list'> <class 'dict'> <class 'str'> <class 'str'> <class 'list'> <class 'int'> <class '__main__.TreesCounter1'>\n"
     ]
    }
   ],
   "source": [
    "a = 100\n",
    "b = [1, 2, 3]\n",
    "c = {'f':24, 'g':7}\n",
    "d = 'test'\n",
    "e = str('test')\n",
    "f = list('abc')\n",
    "g = int(100.3)\n",
    "t1 = TreesCounter1('test')\n",
    "\n",
    "print(type(a), type(b), type(c), type(d), type(e), type(f), type(g), type(t1))"
   ]
  },
  {
   "cell_type": "code",
   "execution_count": 74,
   "id": "ac8482cc",
   "metadata": {},
   "outputs": [
    {
     "name": "stdout",
     "output_type": "stream",
     "text": [
      "<__main__.TreesCounter1 object at 0x0000018503D8AC50>\n"
     ]
    }
   ],
   "source": [
    "print(t1)"
   ]
  },
  {
   "cell_type": "code",
   "execution_count": 133,
   "id": "75de5012",
   "metadata": {},
   "outputs": [
    {
     "name": "stdout",
     "output_type": "stream",
     "text": [
      "TreesCounter1 at trees\n"
     ]
    }
   ],
   "source": [
    "import os\n",
    "from glob import glob\n",
    "\n",
    "class TreesCounter1:\n",
    "    _path = None\n",
    "    \n",
    "    def __init__(self, path):\n",
    "        self._path = path\n",
    "\n",
    "    def count(self, stage, model, cat):\n",
    "        w = os.path.join(self._path, stage, model, cat, '*.jpg')\n",
    "        count = len(glob(w))\n",
    "        \n",
    "        return count\n",
    "    \n",
    "    def __str__(self):\n",
    "        return f'TreesCounter1 at {self._path}'\n",
    "    \n",
    "    def __len__(self):\n",
    "        count = 0\n",
    "        for w in os.walk('trees'):\n",
    "            if w[2]:\n",
    "                for x in w[2]:\n",
    "                    if x.split('.')[-1].lower() == 'jpg':\n",
    "                        count += 1\n",
    "        \n",
    "        return count\n",
    "    \n",
    "t1 = TreesCounter1('trees')\n",
    "print(t1)"
   ]
  },
  {
   "cell_type": "code",
   "execution_count": 136,
   "id": "e1df58ff",
   "metadata": {},
   "outputs": [
    {
     "name": "stdout",
     "output_type": "stream",
     "text": [
      "TreesCounter1 at trees\n"
     ]
    }
   ],
   "source": [
    "import os\n",
    "from glob import glob\n",
    "\n",
    "class TreesCounter1:\n",
    "    _path = None\n",
    "    \n",
    "    def __init__(self, path):\n",
    "        self._path = path\n",
    "\n",
    "    def count(self, stage, model, cat):\n",
    "        w = os.path.join(self._path, stage, model, cat, '*.jpg')\n",
    "        count = len(glob(w))\n",
    "        \n",
    "        return count\n",
    "    \n",
    "    def __str__(self):\n",
    "        return f'TreesCounter1 at {self._path}'\n",
    "    \n",
    "t1 = TreesCounter1('trees')\n",
    "print(t1)"
   ]
  },
  {
   "cell_type": "code",
   "execution_count": 137,
   "id": "4a9c7434",
   "metadata": {},
   "outputs": [
    {
     "ename": "TypeError",
     "evalue": "object of type 'TreesCounter1' has no len()",
     "output_type": "error",
     "traceback": [
      "\u001b[1;31m---------------------------------------------------------------------------\u001b[0m",
      "\u001b[1;31mTypeError\u001b[0m                                 Traceback (most recent call last)",
      "\u001b[1;32m<ipython-input-137-5cd7d63fc662>\u001b[0m in \u001b[0;36m<module>\u001b[1;34m\u001b[0m\n\u001b[1;32m----> 1\u001b[1;33m \u001b[0mprint\u001b[0m\u001b[1;33m(\u001b[0m\u001b[0mlen\u001b[0m\u001b[1;33m(\u001b[0m\u001b[0mt1\u001b[0m\u001b[1;33m)\u001b[0m\u001b[1;33m)\u001b[0m\u001b[1;33m\u001b[0m\u001b[1;33m\u001b[0m\u001b[0m\n\u001b[0m",
      "\u001b[1;31mTypeError\u001b[0m: object of type 'TreesCounter1' has no len()"
     ]
    }
   ],
   "source": [
    "print(len(t1))"
   ]
  },
  {
   "cell_type": "code",
   "execution_count": 147,
   "id": "b1382de2",
   "metadata": {},
   "outputs": [
    {
     "name": "stdout",
     "output_type": "stream",
     "text": [
      "4622\n"
     ]
    }
   ],
   "source": [
    "import os\n",
    "from glob import glob\n",
    "\n",
    "class TreesCounter1:\n",
    "    _path = None\n",
    "    \n",
    "    def __init__(self, path):\n",
    "        self._path = path\n",
    "\n",
    "    def count(self, stage, model, cat):\n",
    "        w = os.path.join(self._path, stage, model, cat, '*.jpg')\n",
    "        count = len(glob(w))\n",
    "        \n",
    "        return count\n",
    "    \n",
    "    def __str__(self):\n",
    "        return f'TreesCounter1 at {self._path}'\n",
    "    \n",
    "    def __len__(self):\n",
    "        return len(glob(os.path.join(self._path, '*', '*', '*', '*.jpg')))\n",
    "    \n",
    "t1 = TreesCounter1('trees')\n",
    "print(len(t1))"
   ]
  },
  {
   "cell_type": "code",
   "execution_count": 149,
   "id": "365b8356",
   "metadata": {},
   "outputs": [
    {
     "name": "stdout",
     "output_type": "stream",
     "text": [
      "trees\n"
     ]
    }
   ],
   "source": [
    "import os\n",
    "from glob import glob\n",
    "\n",
    "class TreesCounter1:\n",
    "    _path = None\n",
    "    \n",
    "    def __init__(self, path):\n",
    "        self._path = path\n",
    "\n",
    "    def count(self, stage, model, cat):\n",
    "        w = os.path.join(self._path, stage, model, cat, '*.jpg')\n",
    "        count = len(glob(w))\n",
    "        \n",
    "        return count\n",
    "    \n",
    "    def __str__(self):\n",
    "        return f'TreesCounter1 at {self._path}'\n",
    "    \n",
    "    def __len__(self):\n",
    "        return len(glob(os.path.join(self._path, '*', '*', '*', '*.jpg')))\n",
    "    \n",
    "t1 = TreesCounter1('trees')\n",
    "print(t1._path)"
   ]
  },
  {
   "cell_type": "code",
   "execution_count": 150,
   "id": "bc9abc2c",
   "metadata": {},
   "outputs": [
    {
     "name": "stdout",
     "output_type": "stream",
     "text": [
      "None\n"
     ]
    }
   ],
   "source": [
    "print(TreesCounter1._path)"
   ]
  },
  {
   "cell_type": "code",
   "execution_count": 170,
   "id": "f3f07ec6",
   "metadata": {},
   "outputs": [
    {
     "name": "stdout",
     "output_type": "stream",
     "text": [
      "tree DR: 105\n",
      "leaf AE: 189\n"
     ]
    }
   ],
   "source": [
    "import os\n",
    "from glob import glob\n",
    "\n",
    "class TreesCounter2:\n",
    "    @staticmethod\n",
    "    def count(path, stage, model, cat):\n",
    "        w = os.path.join(path, stage, model, cat, '*.jpg')\n",
    "        count = len(glob(w))\n",
    "        \n",
    "        return count\n",
    "\n",
    "print(f\"tree DR: {TreesCounter2.count('trees', 'train', 'tree', 'DR')}\")\n",
    "print(f\"leaf AE: {TreesCounter2.count('trees', 'train', 'leaf', 'AE')}\")"
   ]
  },
  {
   "cell_type": "code",
   "execution_count": 198,
   "id": "3cc6b12d",
   "metadata": {},
   "outputs": [
    {
     "name": "stdout",
     "output_type": "stream",
     "text": [
      "tree DR: 105\n",
      "leaf AE: 189\n"
     ]
    }
   ],
   "source": [
    "import os\n",
    "from glob import glob\n",
    "\n",
    "class TreesCounter3:\n",
    "    _path = None\n",
    "    \n",
    "    @classmethod\n",
    "    def __init__(cls, path):\n",
    "        cls._path = path\n",
    "\n",
    "    @classmethod\n",
    "    def count(cls, stage, model, cat):\n",
    "        w = os.path.join(cls._path, stage, model, cat, '*.jpg')\n",
    "        count = len(glob(w))\n",
    "        \n",
    "        return count\n",
    "    \n",
    "t3 = TreesCounter3('trees')\n",
    "print(f\"tree DR: {t3.count('train', 'tree', 'DR')}\")\n",
    "print(f\"leaf AE: {TreesCounter3.count('train', 'leaf', 'AE')}\")"
   ]
  },
  {
   "cell_type": "code",
   "execution_count": 199,
   "id": "8c4fc5f5",
   "metadata": {},
   "outputs": [
    {
     "name": "stdout",
     "output_type": "stream",
     "text": [
      "tree DR: 0\n",
      "leaf AE: 0\n"
     ]
    }
   ],
   "source": [
    "t33 = TreesCounter3('t')\n",
    "print(f\"tree DR: {t3.count('train', 'tree', 'DR')}\")\n",
    "print(f\"leaf AE: {TreesCounter3.count('train', 'leaf', 'AE')}\")"
   ]
  },
  {
   "cell_type": "code",
   "execution_count": 200,
   "id": "26583de8",
   "metadata": {},
   "outputs": [
    {
     "name": "stdout",
     "output_type": "stream",
     "text": [
      "t t t\n"
     ]
    }
   ],
   "source": [
    "print(t3._path, t33._path, TreesCounter3._path)"
   ]
  },
  {
   "cell_type": "code",
   "execution_count": null,
   "id": "2a09a06f",
   "metadata": {},
   "outputs": [],
   "source": []
  }
 ],
 "metadata": {
  "kernelspec": {
   "display_name": "Python 3",
   "language": "python",
   "name": "python3"
  },
  "language_info": {
   "codemirror_mode": {
    "name": "ipython",
    "version": 3
   },
   "file_extension": ".py",
   "mimetype": "text/x-python",
   "name": "python",
   "nbconvert_exporter": "python",
   "pygments_lexer": "ipython3",
   "version": "3.6.8"
  }
 },
 "nbformat": 4,
 "nbformat_minor": 5
}
