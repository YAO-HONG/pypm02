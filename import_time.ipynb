{
 "cells": [
  {
   "cell_type": "code",
   "execution_count": 2,
   "id": "baeeb926",
   "metadata": {},
   "outputs": [
    {
     "name": "stdout",
     "output_type": "stream",
     "text": [
      "2.3658370971679688 secs\n",
      "2021/09/06-15:28:46\n"
     ]
    }
   ],
   "source": [
    "import time\n",
    "\n",
    "start = time.time()\n",
    "c = 1\n",
    "for i in range(1, 100000):\n",
    "    c *= i\n",
    "print(f'{time.time() - start} secs')\n",
    "\n",
    "now = time.strftime('%Y/%m/%d-%H:%M:%S', time.localtime())\n",
    "print(now)"
   ]
  },
  {
   "cell_type": "code",
   "execution_count": 3,
   "id": "4c43cae0",
   "metadata": {},
   "outputs": [
    {
     "name": "stdout",
     "output_type": "stream",
     "text": [
      "2.3376262187957764 secs\n",
      "2021/09/06-15:29:09\n"
     ]
    }
   ],
   "source": [
    "import time as t\n",
    "\n",
    "start = t.time()\n",
    "c = 1\n",
    "for i in range(1, 100000):\n",
    "    c *= i\n",
    "print(f'{t.time() - start} secs')\n",
    "\n",
    "now = t.strftime('%Y/%m/%d-%H:%M:%S', t.localtime())\n",
    "print(now)"
   ]
  },
  {
   "cell_type": "code",
   "execution_count": 4,
   "id": "1e22f0ba",
   "metadata": {},
   "outputs": [
    {
     "name": "stdout",
     "output_type": "stream",
     "text": [
      "2.4023120403289795 secs\n",
      "2021/09/06-15:29:53\n"
     ]
    }
   ],
   "source": [
    "from time import time, strftime, localtime\n",
    "\n",
    "start = time()\n",
    "c = 1\n",
    "for i in range(1, 100000):\n",
    "    c *= i\n",
    "print(f'{time() - start} secs')\n",
    "\n",
    "now = strftime('%Y/%m/%d-%H:%M:%S', localtime())\n",
    "print(now)"
   ]
  },
  {
   "cell_type": "code",
   "execution_count": 5,
   "id": "c7df2a54",
   "metadata": {},
   "outputs": [
    {
     "name": "stdout",
     "output_type": "stream",
     "text": [
      "2.3497183322906494 secs\n",
      "2021/09/06-15:30:02\n"
     ]
    }
   ],
   "source": [
    "from time import *\n",
    "\n",
    "start = time()\n",
    "c = 1\n",
    "for i in range(1, 100000):\n",
    "    c *= i\n",
    "print(f'{time() - start} secs')\n",
    "\n",
    "now = strftime('%Y/%m/%d-%H:%M:%S', localtime())\n",
    "print(now)"
   ]
  },
  {
   "cell_type": "code",
   "execution_count": null,
   "id": "b3fc1b3c",
   "metadata": {},
   "outputs": [],
   "source": []
  }
 ],
 "metadata": {
  "kernelspec": {
   "display_name": "Python 3",
   "language": "python",
   "name": "python3"
  },
  "language_info": {
   "codemirror_mode": {
    "name": "ipython",
    "version": 3
   },
   "file_extension": ".py",
   "mimetype": "text/x-python",
   "name": "python",
   "nbconvert_exporter": "python",
   "pygments_lexer": "ipython3",
   "version": "3.6.8"
  }
 },
 "nbformat": 4,
 "nbformat_minor": 5
}
