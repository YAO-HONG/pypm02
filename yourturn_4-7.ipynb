{
 "cells": [
  {
   "cell_type": "code",
   "execution_count": 2,
   "id": "bc5a2105",
   "metadata": {},
   "outputs": [
    {
     "name": "stdout",
     "output_type": "stream",
     "text": [
      "runpython6.py's name is yourturn4_7.runpython6\n"
     ]
    }
   ],
   "source": [
    "import sys, os\n",
    "sys.path.append(os.path.join('.', 'trial'))\n",
    "from yourturn4_7.runpython6 import TreesCounter2"
   ]
  },
  {
   "cell_type": "code",
   "execution_count": 3,
   "id": "dfc2379c",
   "metadata": {},
   "outputs": [
    {
     "name": "stdout",
     "output_type": "stream",
     "text": [
      "<class 'yourturn4_7.runpython6.TreesCounter2'>\n"
     ]
    }
   ],
   "source": [
    "print(TreesCounter2)"
   ]
  },
  {
   "cell_type": "code",
   "execution_count": null,
   "id": "eca65446",
   "metadata": {},
   "outputs": [],
   "source": []
  }
 ],
 "metadata": {
  "kernelspec": {
   "display_name": "Python 3",
   "language": "python",
   "name": "python3"
  },
  "language_info": {
   "codemirror_mode": {
    "name": "ipython",
    "version": 3
   },
   "file_extension": ".py",
   "mimetype": "text/x-python",
   "name": "python",
   "nbconvert_exporter": "python",
   "pygments_lexer": "ipython3",
   "version": "3.6.8"
  }
 },
 "nbformat": 4,
 "nbformat_minor": 5
}
