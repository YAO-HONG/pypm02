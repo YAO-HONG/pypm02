{
 "cells": [
  {
   "cell_type": "code",
   "execution_count": 4,
   "metadata": {},
   "outputs": [
    {
     "name": "stdout",
     "output_type": "stream",
     "text": [
      "['How', 'about', 'studying', 'Python']\n",
      "studying at 2\n"
     ]
    }
   ],
   "source": [
    "s = 'How about studying Python'\n",
    "q = s.split()\n",
    "print(q)\n",
    "target = 'studying'\n",
    "for i, v in enumerate(q):\n",
    "    if v == target:\n",
    "        print(f'{target} at {i}')"
   ]
  },
  {
   "cell_type": "code",
   "execution_count": 5,
   "metadata": {},
   "outputs": [
    {
     "name": "stdout",
     "output_type": "stream",
     "text": [
      "['How', 'about', 'studying', 'Python']\n",
      "studying at 2\n"
     ]
    }
   ],
   "source": [
    "s = 'How about studying Python'\n",
    "q = s.split()\n",
    "print(q)\n",
    "target = 'studying'\n",
    "for i in range(len(q)):\n",
    "    if q[i] == target:\n",
    "        print(f'{target} at {i}')"
   ]
  },
  {
   "cell_type": "code",
   "execution_count": null,
   "metadata": {},
   "outputs": [],
   "source": []
  }
 ],
 "metadata": {
  "kernelspec": {
   "display_name": "Python 3",
   "language": "python",
   "name": "python3"
  },
  "language_info": {
   "codemirror_mode": {
    "name": "ipython",
    "version": 3
   },
   "file_extension": ".py",
   "mimetype": "text/x-python",
   "name": "python",
   "nbconvert_exporter": "python",
   "pygments_lexer": "ipython3",
   "version": "3.6.8"
  }
 },
 "nbformat": 4,
 "nbformat_minor": 2
}
