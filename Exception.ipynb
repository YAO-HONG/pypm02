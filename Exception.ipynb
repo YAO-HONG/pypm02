{
 "cells": [
  {
   "cell_type": "code",
   "execution_count": 9,
   "id": "ee89e7d3",
   "metadata": {},
   "outputs": [
    {
     "name": "stdout",
     "output_type": "stream",
     "text": [
      "tree DR: 105\n"
     ]
    }
   ],
   "source": [
    "import os\n",
    "from glob import glob\n",
    "\n",
    "class TreesCounter2:\n",
    "    @staticmethod\n",
    "    def count(path, stage, model, cat):\n",
    "        w = os.path.join(path, stage, model, cat, '*.jpg')\n",
    "        count = len(glob(w))\n",
    "        \n",
    "        return count\n",
    "    \n",
    "print(f\"tree DR: {TreesCounter2.count('trees', 'train', 'tree', 'DR')}\")"
   ]
  },
  {
   "cell_type": "code",
   "execution_count": 19,
   "id": "d8b0eedf",
   "metadata": {},
   "outputs": [
    {
     "ename": "TypeError",
     "evalue": "join() argument must be str or bytes, not 'NoneType'",
     "output_type": "error",
     "traceback": [
      "\u001b[1;31m---------------------------------------------------------------------------\u001b[0m",
      "\u001b[1;31mTypeError\u001b[0m                                 Traceback (most recent call last)",
      "\u001b[1;32m<ipython-input-19-a4057c056710>\u001b[0m in \u001b[0;36m<module>\u001b[1;34m\u001b[0m\n\u001b[0;32m     10\u001b[0m         \u001b[1;32mreturn\u001b[0m \u001b[0mcount\u001b[0m\u001b[1;33m\u001b[0m\u001b[1;33m\u001b[0m\u001b[0m\n\u001b[0;32m     11\u001b[0m \u001b[1;33m\u001b[0m\u001b[0m\n\u001b[1;32m---> 12\u001b[1;33m \u001b[0mprint\u001b[0m\u001b[1;33m(\u001b[0m\u001b[1;34mf\"tree DR: {TreesCounter2.count('trees', None, 'tree', 'DR')}\"\u001b[0m\u001b[1;33m)\u001b[0m\u001b[1;33m\u001b[0m\u001b[1;33m\u001b[0m\u001b[0m\n\u001b[0m",
      "\u001b[1;32m<ipython-input-19-a4057c056710>\u001b[0m in \u001b[0;36mcount\u001b[1;34m(path, stage, model, cat)\u001b[0m\n\u001b[0;32m      5\u001b[0m     \u001b[1;33m@\u001b[0m\u001b[0mstaticmethod\u001b[0m\u001b[1;33m\u001b[0m\u001b[1;33m\u001b[0m\u001b[0m\n\u001b[0;32m      6\u001b[0m     \u001b[1;32mdef\u001b[0m \u001b[0mcount\u001b[0m\u001b[1;33m(\u001b[0m\u001b[0mpath\u001b[0m\u001b[1;33m,\u001b[0m \u001b[0mstage\u001b[0m\u001b[1;33m,\u001b[0m \u001b[0mmodel\u001b[0m\u001b[1;33m,\u001b[0m \u001b[0mcat\u001b[0m\u001b[1;33m)\u001b[0m\u001b[1;33m:\u001b[0m\u001b[1;33m\u001b[0m\u001b[1;33m\u001b[0m\u001b[0m\n\u001b[1;32m----> 7\u001b[1;33m         \u001b[0mw\u001b[0m \u001b[1;33m=\u001b[0m \u001b[0mos\u001b[0m\u001b[1;33m.\u001b[0m\u001b[0mpath\u001b[0m\u001b[1;33m.\u001b[0m\u001b[0mjoin\u001b[0m\u001b[1;33m(\u001b[0m\u001b[0mpath\u001b[0m\u001b[1;33m,\u001b[0m \u001b[0mstage\u001b[0m\u001b[1;33m,\u001b[0m \u001b[0mmodel\u001b[0m\u001b[1;33m,\u001b[0m \u001b[0mcat\u001b[0m\u001b[1;33m,\u001b[0m \u001b[1;34m'*.jpg'\u001b[0m\u001b[1;33m)\u001b[0m\u001b[1;33m\u001b[0m\u001b[1;33m\u001b[0m\u001b[0m\n\u001b[0m\u001b[0;32m      8\u001b[0m         \u001b[0mcount\u001b[0m \u001b[1;33m=\u001b[0m \u001b[0mlen\u001b[0m\u001b[1;33m(\u001b[0m\u001b[0mglob\u001b[0m\u001b[1;33m(\u001b[0m\u001b[0mw\u001b[0m\u001b[1;33m)\u001b[0m\u001b[1;33m)\u001b[0m\u001b[1;33m\u001b[0m\u001b[1;33m\u001b[0m\u001b[0m\n\u001b[0;32m      9\u001b[0m \u001b[1;33m\u001b[0m\u001b[0m\n",
      "\u001b[1;32m~\\AppData\\Local\\Programs\\Python\\Python36\\lib\\ntpath.py\u001b[0m in \u001b[0;36mjoin\u001b[1;34m(path, *paths)\u001b[0m\n\u001b[0;32m    113\u001b[0m         \u001b[1;32mreturn\u001b[0m \u001b[0mresult_drive\u001b[0m \u001b[1;33m+\u001b[0m \u001b[0mresult_path\u001b[0m\u001b[1;33m\u001b[0m\u001b[1;33m\u001b[0m\u001b[0m\n\u001b[0;32m    114\u001b[0m     \u001b[1;32mexcept\u001b[0m \u001b[1;33m(\u001b[0m\u001b[0mTypeError\u001b[0m\u001b[1;33m,\u001b[0m \u001b[0mAttributeError\u001b[0m\u001b[1;33m,\u001b[0m \u001b[0mBytesWarning\u001b[0m\u001b[1;33m)\u001b[0m\u001b[1;33m:\u001b[0m\u001b[1;33m\u001b[0m\u001b[1;33m\u001b[0m\u001b[0m\n\u001b[1;32m--> 115\u001b[1;33m         \u001b[0mgenericpath\u001b[0m\u001b[1;33m.\u001b[0m\u001b[0m_check_arg_types\u001b[0m\u001b[1;33m(\u001b[0m\u001b[1;34m'join'\u001b[0m\u001b[1;33m,\u001b[0m \u001b[0mpath\u001b[0m\u001b[1;33m,\u001b[0m \u001b[1;33m*\u001b[0m\u001b[0mpaths\u001b[0m\u001b[1;33m)\u001b[0m\u001b[1;33m\u001b[0m\u001b[1;33m\u001b[0m\u001b[0m\n\u001b[0m\u001b[0;32m    116\u001b[0m         \u001b[1;32mraise\u001b[0m\u001b[1;33m\u001b[0m\u001b[1;33m\u001b[0m\u001b[0m\n\u001b[0;32m    117\u001b[0m \u001b[1;33m\u001b[0m\u001b[0m\n",
      "\u001b[1;32m~\\AppData\\Local\\Programs\\Python\\Python36\\lib\\genericpath.py\u001b[0m in \u001b[0;36m_check_arg_types\u001b[1;34m(funcname, *args)\u001b[0m\n\u001b[0;32m    147\u001b[0m         \u001b[1;32melse\u001b[0m\u001b[1;33m:\u001b[0m\u001b[1;33m\u001b[0m\u001b[1;33m\u001b[0m\u001b[0m\n\u001b[0;32m    148\u001b[0m             raise TypeError('%s() argument must be str or bytes, not %r' %\n\u001b[1;32m--> 149\u001b[1;33m                             (funcname, s.__class__.__name__)) from None\n\u001b[0m\u001b[0;32m    150\u001b[0m     \u001b[1;32mif\u001b[0m \u001b[0mhasstr\u001b[0m \u001b[1;32mand\u001b[0m \u001b[0mhasbytes\u001b[0m\u001b[1;33m:\u001b[0m\u001b[1;33m\u001b[0m\u001b[1;33m\u001b[0m\u001b[0m\n\u001b[0;32m    151\u001b[0m         \u001b[1;32mraise\u001b[0m \u001b[0mTypeError\u001b[0m\u001b[1;33m(\u001b[0m\u001b[1;34m\"Can't mix strings and bytes in path components\"\u001b[0m\u001b[1;33m)\u001b[0m \u001b[1;32mfrom\u001b[0m \u001b[1;32mNone\u001b[0m\u001b[1;33m\u001b[0m\u001b[1;33m\u001b[0m\u001b[0m\n",
      "\u001b[1;31mTypeError\u001b[0m: join() argument must be str or bytes, not 'NoneType'"
     ]
    }
   ],
   "source": [
    "import os\n",
    "from glob import glob\n",
    "\n",
    "class TreesCounter2:\n",
    "    @staticmethod\n",
    "    def count(path, stage, model, cat):\n",
    "        w = os.path.join(path, stage, model, cat, '*.jpg')\n",
    "        count = len(glob(w))\n",
    "        \n",
    "        return count\n",
    "\n",
    "print(f\"tree DR: {TreesCounter2.count('trees', None, 'tree', 'DR')}\")"
   ]
  },
  {
   "cell_type": "code",
   "execution_count": 28,
   "id": "9a599307",
   "metadata": {},
   "outputs": [
    {
     "name": "stdout",
     "output_type": "stream",
     "text": [
      "got exception: join() argument must be str or bytes, not 'NoneType'\n"
     ]
    }
   ],
   "source": [
    "import os\n",
    "from glob import glob\n",
    "\n",
    "class TreesCounter2:\n",
    "    @staticmethod\n",
    "    def count(path, stage, model, cat):\n",
    "        w = os.path.join(path, stage, model, cat, '*.jpg')\n",
    "        count = len(glob(w))\n",
    "        \n",
    "        return count\n",
    "\n",
    "try:\n",
    "    print(f\"tree DR: {TreesCounter2.count('trees', None, 'tree', 'DR')}\")\n",
    "except TypeError as e:\n",
    "    print(f'got exception: {e}')"
   ]
  },
  {
   "cell_type": "code",
   "execution_count": 27,
   "id": "3c53e682",
   "metadata": {},
   "outputs": [
    {
     "name": "stdout",
     "output_type": "stream",
     "text": [
      "other except\n"
     ]
    }
   ],
   "source": [
    "import os\n",
    "from glob import glob\n",
    "\n",
    "class TreesCounter2:\n",
    "    @staticmethod\n",
    "    def count(path, stage, model, cat):\n",
    "        w = os.path.join(path, stage, model, cat, '*.jpg')\n",
    "        count = len(glob(w))\n",
    "        \n",
    "        return count\n",
    "\n",
    "try:\n",
    "    print(f\"tree DR: {T.count('trees', 'train', 'tree', 'DR')}\")\n",
    "except TypeError as e:\n",
    "    print(f'got exception: {e}')\n",
    "except:\n",
    "    print(f'other except')"
   ]
  },
  {
   "cell_type": "code",
   "execution_count": null,
   "id": "3c896808",
   "metadata": {},
   "outputs": [],
   "source": [
    "import os\n",
    "from glob import glob\n",
    "\n",
    "class TreesCounter2:\n",
    "    @staticmethod\n",
    "    def count(path, stage, model, cat):\n",
    "        w = os.path.join(path, stage, model, cat, '*.jpg')\n",
    "        count = len(glob(w))\n",
    "        \n",
    "        return count\n",
    "\n",
    "try:\n",
    "    print(f\"tree DR: {T.count('trees', 'train', 'tree', 'DR')}\")\n",
    "except TypeError as e:\n",
    "    print(f'got exception: {e}')\n",
    "except:\n",
    "    print(f'other except')"
   ]
  },
  {
   "cell_type": "code",
   "execution_count": 30,
   "id": "c08859e1",
   "metadata": {},
   "outputs": [
    {
     "name": "stdout",
     "output_type": "stream",
     "text": [
      "other except\n"
     ]
    }
   ],
   "source": [
    "import os\n",
    "from glob import glob\n",
    "\n",
    "class TreesCounter2:\n",
    "    @staticmethod\n",
    "    def count(path, stage, model, cat):\n",
    "        w = os.path.join(path, stage, model, cat, '*.jpg')\n",
    "        count = len(glob(w))\n",
    "        \n",
    "        return count\n",
    "\n",
    "try:\n",
    "    print(f\"tree DR: {T.count('trees', 'train', 'tree', 'DR')}\")\n",
    "except TypeError as e:\n",
    "    print(f'got exception: {e}')\n",
    "except:\n",
    "    print(f'other except')\n",
    "else:\n",
    "    print('we are fine')"
   ]
  },
  {
   "cell_type": "code",
   "execution_count": 24,
   "id": "9861b224",
   "metadata": {},
   "outputs": [
    {
     "name": "stdout",
     "output_type": "stream",
     "text": [
      "other except\n",
      "we have handled all exception!!\n"
     ]
    }
   ],
   "source": [
    "import os\n",
    "from glob import glob\n",
    "\n",
    "class TreesCounter2:\n",
    "    @staticmethod\n",
    "    def count(path, stage, model, cat):\n",
    "        w = os.path.join(path, stage, model, cat, '*.jpg')\n",
    "        count = len(glob(w))\n",
    "        \n",
    "        return count\n",
    "\n",
    "try:\n",
    "    print(f\"tree DR: {T.count('trees', 'train', 'tree', 'DR')}\")\n",
    "except TypeError as e:\n",
    "    print(f'got exception: {e}')\n",
    "except:\n",
    "    print(f'other except')\n",
    "else:\n",
    "    print('we are fine')\n",
    "finally:\n",
    "    print('we have handled all exception!!')"
   ]
  },
  {
   "cell_type": "code",
   "execution_count": null,
   "id": "560c58bd",
   "metadata": {},
   "outputs": [],
   "source": []
  }
 ],
 "metadata": {
  "kernelspec": {
   "display_name": "Python 3",
   "language": "python",
   "name": "python3"
  },
  "language_info": {
   "codemirror_mode": {
    "name": "ipython",
    "version": 3
   },
   "file_extension": ".py",
   "mimetype": "text/x-python",
   "name": "python",
   "nbconvert_exporter": "python",
   "pygments_lexer": "ipython3",
   "version": "3.6.8"
  }
 },
 "nbformat": 4,
 "nbformat_minor": 5
}
