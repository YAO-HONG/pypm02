{
 "cells": [
  {
   "cell_type": "code",
   "execution_count": 1,
   "id": "f1c1fe25",
   "metadata": {},
   "outputs": [],
   "source": [
    "Abc_123 = 123"
   ]
  },
  {
   "cell_type": "code",
   "execution_count": 2,
   "id": "192bea8a",
   "metadata": {},
   "outputs": [
    {
     "data": {
      "text/plain": [
       "123"
      ]
     },
     "execution_count": 2,
     "metadata": {},
     "output_type": "execute_result"
    }
   ],
   "source": [
    "Abc_123"
   ]
  },
  {
   "cell_type": "code",
   "execution_count": 3,
   "id": "31436bf4",
   "metadata": {},
   "outputs": [
    {
     "data": {
      "text/plain": [
       "125"
      ]
     },
     "execution_count": 3,
     "metadata": {},
     "output_type": "execute_result"
    }
   ],
   "source": [
    "Abc_123 + 2"
   ]
  },
  {
   "cell_type": "code",
   "execution_count": 4,
   "id": "fe47c616",
   "metadata": {},
   "outputs": [],
   "source": [
    "xyz = Abc_123 + 2"
   ]
  },
  {
   "cell_type": "code",
   "execution_count": 5,
   "id": "30c64d7d",
   "metadata": {},
   "outputs": [
    {
     "data": {
      "text/plain": [
       "125"
      ]
     },
     "execution_count": 5,
     "metadata": {},
     "output_type": "execute_result"
    }
   ],
   "source": [
    "xyz"
   ]
  },
  {
   "cell_type": "code",
   "execution_count": 6,
   "id": "ed472ad9",
   "metadata": {},
   "outputs": [
    {
     "data": {
      "text/plain": [
       "123"
      ]
     },
     "execution_count": 6,
     "metadata": {},
     "output_type": "execute_result"
    }
   ],
   "source": [
    "Abc_123"
   ]
  },
  {
   "cell_type": "code",
   "execution_count": 7,
   "id": "2f1efe40",
   "metadata": {},
   "outputs": [],
   "source": [
    "Abc_123 = Abc_123 + 2"
   ]
  },
  {
   "cell_type": "code",
   "execution_count": 8,
   "id": "85f70cc7",
   "metadata": {},
   "outputs": [
    {
     "data": {
      "text/plain": [
       "125"
      ]
     },
     "execution_count": 8,
     "metadata": {},
     "output_type": "execute_result"
    }
   ],
   "source": [
    "Abc_123"
   ]
  },
  {
   "cell_type": "code",
   "execution_count": null,
   "id": "483147ce",
   "metadata": {},
   "outputs": [],
   "source": []
  }
 ],
 "metadata": {
  "kernelspec": {
   "display_name": "Python 3",
   "language": "python",
   "name": "python3"
  },
  "language_info": {
   "codemirror_mode": {
    "name": "ipython",
    "version": 3
   },
   "file_extension": ".py",
   "mimetype": "text/x-python",
   "name": "python",
   "nbconvert_exporter": "python",
   "pygments_lexer": "ipython3",
   "version": "3.6.8"
  }
 },
 "nbformat": 4,
 "nbformat_minor": 5
}
