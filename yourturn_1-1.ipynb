{
 "cells": [
  {
   "cell_type": "code",
   "execution_count": null,
   "id": "f1c1fe25",
   "metadata": {},
   "outputs": [],
   "source": [
    "Abc_123 = 123"
   ]
  },
  {
   "cell_type": "code",
   "execution_count": null,
   "id": "192bea8a",
   "metadata": {},
   "outputs": [],
   "source": [
    "Abc_123"
   ]
  },
  {
   "cell_type": "code",
   "execution_count": null,
   "id": "31436bf4",
   "metadata": {},
   "outputs": [],
   "source": [
    "Abc_123 + 2"
   ]
  },
  {
   "cell_type": "code",
   "execution_count": null,
   "id": "fe47c616",
   "metadata": {},
   "outputs": [],
   "source": [
    "xyz = Abc_123 + 2"
   ]
  },
  {
   "cell_type": "code",
   "execution_count": null,
   "id": "30c64d7d",
   "metadata": {},
   "outputs": [],
   "source": [
    "xyz"
   ]
  },
  {
   "cell_type": "code",
   "execution_count": null,
   "id": "ed472ad9",
   "metadata": {},
   "outputs": [],
   "source": [
    "Abc_123"
   ]
  },
  {
   "cell_type": "code",
   "execution_count": null,
   "id": "2f1efe40",
   "metadata": {},
   "outputs": [],
   "source": [
    "Abc_123 = Abc_123 + 2"
   ]
  },
  {
   "cell_type": "code",
   "execution_count": null,
   "id": "85f70cc7",
   "metadata": {},
   "outputs": [],
   "source": [
    "Abc_123"
   ]
  },
  {
   "cell_type": "code",
   "execution_count": null,
   "id": "483147ce",
   "metadata": {},
   "outputs": [],
   "source": []
  }
 ],
 "metadata": {
  "kernelspec": {
   "display_name": "Python 3",
   "language": "python",
   "name": "python3"
  },
  "language_info": {
   "codemirror_mode": {
    "name": "ipython",
    "version": 3
   },
   "file_extension": ".py",
   "mimetype": "text/x-python",
   "name": "python",
   "nbconvert_exporter": "python",
   "pygments_lexer": "ipython3",
   "version": "3.6.8"
  }
 },
 "nbformat": 4,
 "nbformat_minor": 5
}
