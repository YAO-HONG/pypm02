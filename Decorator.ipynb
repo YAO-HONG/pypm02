{
 "cells": [
  {
   "cell_type": "code",
   "execution_count": 1,
   "id": "b4b81173",
   "metadata": {},
   "outputs": [],
   "source": [
    "def func1():\n",
    "    for i in range(100000):\n",
    "        i *= i"
   ]
  },
  {
   "cell_type": "code",
   "execution_count": 2,
   "id": "a6294630",
   "metadata": {},
   "outputs": [],
   "source": [
    "def func1():\n",
    "    from time import time\n",
    "    start = time()\n",
    "    for i in range(100000):\n",
    "        i *= i\n",
    "    print(f'{time()-start:.3f} secs')"
   ]
  },
  {
   "cell_type": "code",
   "execution_count": 3,
   "id": "fa88ed80",
   "metadata": {},
   "outputs": [
    {
     "name": "stdout",
     "output_type": "stream",
     "text": [
      "0.007 secs\n"
     ]
    }
   ],
   "source": [
    "func1()"
   ]
  },
  {
   "cell_type": "code",
   "execution_count": 16,
   "id": "6c720c98",
   "metadata": {},
   "outputs": [],
   "source": [
    "def func2():\n",
    "    from time import time\n",
    "    start = time()\n",
    "    for i in range(10000):\n",
    "        i *= i**i\n",
    "    print(f'{time()-start:.3f} secs')"
   ]
  },
  {
   "cell_type": "code",
   "execution_count": 17,
   "id": "32717b3b",
   "metadata": {},
   "outputs": [
    {
     "name": "stdout",
     "output_type": "stream",
     "text": [
      "4.384 secs\n"
     ]
    }
   ],
   "source": [
    "func2()"
   ]
  },
  {
   "cell_type": "code",
   "execution_count": 18,
   "id": "77451efe",
   "metadata": {},
   "outputs": [],
   "source": [
    "def speed(func):\n",
    "    def wrapper():\n",
    "        from time import time\n",
    "        start = time()\n",
    "        func()\n",
    "        print(f'{time()-start:.3f} secs')\n",
    "    return wrapper"
   ]
  },
  {
   "cell_type": "code",
   "execution_count": 25,
   "id": "17561e1c",
   "metadata": {},
   "outputs": [],
   "source": [
    "def func3():\n",
    "    for x in range(1000000):\n",
    "        x *= x"
   ]
  },
  {
   "cell_type": "code",
   "execution_count": 27,
   "id": "9e5b2436",
   "metadata": {},
   "outputs": [
    {
     "name": "stdout",
     "output_type": "stream",
     "text": [
      "0.046 secs\n"
     ]
    }
   ],
   "source": [
    "speed(func3)()"
   ]
  },
  {
   "cell_type": "code",
   "execution_count": 33,
   "id": "a4d7d394",
   "metadata": {},
   "outputs": [],
   "source": [
    "@speed\n",
    "def func4():\n",
    "    for x in range(1000000):\n",
    "        x *= x**3"
   ]
  },
  {
   "cell_type": "code",
   "execution_count": 34,
   "id": "f8484f4c",
   "metadata": {},
   "outputs": [
    {
     "name": "stdout",
     "output_type": "stream",
     "text": [
      "0.341 secs\n"
     ]
    }
   ],
   "source": [
    "func4()"
   ]
  }
 ],
 "metadata": {
  "kernelspec": {
   "display_name": "Python 3",
   "language": "python",
   "name": "python3"
  },
  "language_info": {
   "codemirror_mode": {
    "name": "ipython",
    "version": 3
   },
   "file_extension": ".py",
   "mimetype": "text/x-python",
   "name": "python",
   "nbconvert_exporter": "python",
   "pygments_lexer": "ipython3",
   "version": "3.6.8"
  }
 },
 "nbformat": 4,
 "nbformat_minor": 5
}
