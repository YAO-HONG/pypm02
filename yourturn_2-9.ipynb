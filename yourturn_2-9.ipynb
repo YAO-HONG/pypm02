{
 "cells": [
  {
   "cell_type": "markdown",
   "metadata": {},
   "source": [
    "## 1"
   ]
  },
  {
   "cell_type": "code",
   "execution_count": 1,
   "metadata": {},
   "outputs": [
    {
     "name": "stdout",
     "output_type": "stream",
     "text": [
      "x 元素個數:\t 6\n",
      "x 最大值:\t22\n",
      "x 最小值:\t 5\n",
      "x 總和:\t\t76.5\n"
     ]
    }
   ],
   "source": [
    "x = {22, 7, 9, 13, 5, 20.5}\n",
    "\n",
    "print(f'x 元素個數:\\t{len(x):2}')\n",
    "print(f'x 最大值:\\t{max(x):2}')\n",
    "print(f'x 最小值:\\t{min(x):2}')\n",
    "print(f'x 總和:\\t\\t{sum(x)}')"
   ]
  },
  {
   "cell_type": "markdown",
   "metadata": {},
   "source": [
    "## 2"
   ]
  },
  {
   "cell_type": "code",
   "execution_count": 2,
   "metadata": {},
   "outputs": [
    {
     "name": "stdout",
     "output_type": "stream",
     "text": [
      "{'index': '002', 'name': 'Mary', 'sex': 'Female', 'age': 34, 'price': 432.23, 'level': '3', 'port': 'C', 'surviving': 1}\n"
     ]
    }
   ],
   "source": [
    "title = 'index|name|sex|age|price|level|port|surviving'\n",
    "text = '002|Mary|Female|34|432.23|3|C|1'\n",
    "\n",
    "a = title.split('|')\n",
    "b = text.split('|')\n",
    "\n",
    "d = dict(zip(a, b))\n",
    "d['age'] = int(d['age'])\n",
    "d['price'] = float(d['price'])\n",
    "d['surviving'] = int(d['surviving'])\n",
    "print(d)"
   ]
  },
  {
   "cell_type": "markdown",
   "metadata": {},
   "source": [
    "## 3"
   ]
  },
  {
   "cell_type": "code",
   "execution_count": 3,
   "metadata": {},
   "outputs": [
    {
     "ename": "TypeError",
     "evalue": "'str' object is not callable",
     "output_type": "error",
     "traceback": [
      "\u001b[1;31m---------------------------------------------------------------------------\u001b[0m",
      "\u001b[1;31mTypeError\u001b[0m                                 Traceback (most recent call last)",
      "\u001b[1;32m<ipython-input-3-f12c523ba744>\u001b[0m in \u001b[0;36m<module>\u001b[1;34m\u001b[0m\n\u001b[0;32m      9\u001b[0m \u001b[0md\u001b[0m\u001b[1;33m[\u001b[0m\u001b[1;34m'price'\u001b[0m\u001b[1;33m]\u001b[0m \u001b[1;33m=\u001b[0m \u001b[0mfloat\u001b[0m\u001b[1;33m(\u001b[0m\u001b[0md\u001b[0m\u001b[1;33m[\u001b[0m\u001b[1;34m'price'\u001b[0m\u001b[1;33m]\u001b[0m\u001b[1;33m)\u001b[0m\u001b[1;33m\u001b[0m\u001b[1;33m\u001b[0m\u001b[0m\n\u001b[0;32m     10\u001b[0m \u001b[0md\u001b[0m\u001b[1;33m[\u001b[0m\u001b[1;34m'surviving'\u001b[0m\u001b[1;33m]\u001b[0m \u001b[1;33m=\u001b[0m \u001b[0mint\u001b[0m\u001b[1;33m(\u001b[0m\u001b[0md\u001b[0m\u001b[1;33m[\u001b[0m\u001b[1;34m'surviving'\u001b[0m\u001b[1;33m]\u001b[0m\u001b[1;33m)\u001b[0m\u001b[1;33m\u001b[0m\u001b[1;33m\u001b[0m\u001b[0m\n\u001b[1;32m---> 11\u001b[1;33m \u001b[0mprint\u001b[0m\u001b[1;33m(\u001b[0m\u001b[0md\u001b[0m\u001b[1;33m)\u001b[0m\u001b[1;33m\u001b[0m\u001b[1;33m\u001b[0m\u001b[0m\n\u001b[0m",
      "\u001b[1;31mTypeError\u001b[0m: 'str' object is not callable"
     ]
    }
   ],
   "source": [
    "print = 'index|name|sex|age|price|level|port|surviving'\n",
    "text = '002|Mary|Female|34|432.23|3|C|1'\n",
    "\n",
    "a = print.split('|')\n",
    "b = text.split('|')\n",
    "\n",
    "d = dict(zip(a, b))\n",
    "d['age'] = int(d['age'])\n",
    "d['price'] = float(d['price'])\n",
    "d['surviving'] = int(d['surviving'])\n",
    "print(d)"
   ]
  },
  {
   "cell_type": "code",
   "execution_count": 4,
   "metadata": {},
   "outputs": [
    {
     "ename": "SyntaxError",
     "evalue": "invalid syntax (<ipython-input-4-752081a9cb8c>, line 1)",
     "output_type": "error",
     "traceback": [
      "\u001b[1;36m  File \u001b[1;32m\"<ipython-input-4-752081a9cb8c>\"\u001b[1;36m, line \u001b[1;32m1\u001b[0m\n\u001b[1;33m    and = 'index|name|sex|age|price|level|port|surviving'\u001b[0m\n\u001b[1;37m      ^\u001b[0m\n\u001b[1;31mSyntaxError\u001b[0m\u001b[1;31m:\u001b[0m invalid syntax\n"
     ]
    }
   ],
   "source": [
    "and = 'index|name|sex|age|price|level|port|surviving'\n",
    "text = '002|Mary|Female|34|432.23|3|C|1'\n",
    "\n",
    "a = and.split('|')\n",
    "b = text.split('|')\n",
    "\n",
    "d = dict(zip(a, b))\n",
    "d['age'] = int(d['age'])\n",
    "d['price'] = float(d['price'])\n",
    "d['surviving'] = int(d['surviving'])\n",
    "print(d)"
   ]
  },
  {
   "cell_type": "code",
   "execution_count": null,
   "metadata": {},
   "outputs": [],
   "source": []
  }
 ],
 "metadata": {
  "kernelspec": {
   "display_name": "Python 3",
   "language": "python",
   "name": "python3"
  },
  "language_info": {
   "codemirror_mode": {
    "name": "ipython",
    "version": 3
   },
   "file_extension": ".py",
   "mimetype": "text/x-python",
   "name": "python",
   "nbconvert_exporter": "python",
   "pygments_lexer": "ipython3",
   "version": "3.6.8"
  }
 },
 "nbformat": 4,
 "nbformat_minor": 2
}
