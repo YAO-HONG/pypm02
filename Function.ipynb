{
 "cells": [
  {
   "cell_type": "code",
   "execution_count": 1,
   "id": "da0f5503",
   "metadata": {},
   "outputs": [
    {
     "name": "stdout",
     "output_type": "stream",
     "text": [
      "半馬\n",
      "K速 = 274.203 secs = 04:34.203\n",
      "圈速 = 109.681 secs = 01:49.681\n",
      "10K\n",
      "K速 = 256.850 secs = 04:16.850\n",
      "圈速 = 102.740 secs = 01:42.740\n"
     ]
    }
   ],
   "source": [
    "records = {'半馬': {'k':21.0975, 't':5785},\n",
    "           '10K': {'k':10, 't':2568.5}}\n",
    "\n",
    "for r in records:\n",
    "    print(r)\n",
    "    \n",
    "    p = records[r]['t'] / records[r]['k']\n",
    "    pm, ps = divmod(p, 60)\n",
    "    print(f'K速 = {p:.3f} secs = {int(pm):02}:{ps:02.3f}')\n",
    "    \n",
    "    c = records[r]['t']*0.4 / records[r]['k']\n",
    "    cm, cs = divmod(c, 60)\n",
    "    print(f'圈速 = {c:.3f} secs = {int(cm):02}:{cs:02.3f}')"
   ]
  },
  {
   "cell_type": "code",
   "execution_count": 6,
   "id": "3433a3e5",
   "metadata": {},
   "outputs": [
    {
     "name": "stdout",
     "output_type": "stream",
     "text": [
      "半馬\n",
      "K速 = 274.203 secs = 04:34.203\n",
      "圈速 = 109.681 secs = 01:49.681\n",
      "10K\n",
      "K速 = 256.850 secs = 04:16.850\n",
      "圈速 = 102.740 secs = 01:42.740\n"
     ]
    }
   ],
   "source": [
    "def pace(k, s=0):\n",
    "    p = s / k\n",
    "    pm, ps = divmod(p, 60)\n",
    "    return p, int(pm), ps\n",
    "\n",
    "def lapspeed(k, s=0):\n",
    "    p = s * 0.4 / k\n",
    "    pm, ps = divmod(p, 60)\n",
    "    return p, int(pm), ps\n",
    "\n",
    "records = {'半馬': {'k':21.0975, 't':5785},\n",
    "           '10K': {'k':10, 't':2568.5}}\n",
    "\n",
    "for r in records:\n",
    "    print(r)\n",
    "    p, pm, ps = pace(records[r]['k'], records[r]['t'])\n",
    "    print(f'K速 = {p:.3f} secs = {pm:02}:{ps:02.3f}')\n",
    "    p, pm, ps = lapspeed(records[r]['k'], records[r]['t'])\n",
    "    print(f'圈速 = {p:.3f} secs = {pm:02}:{ps:02.3f}')"
   ]
  },
  {
   "cell_type": "code",
   "execution_count": 2,
   "id": "556beccb",
   "metadata": {},
   "outputs": [
    {
     "name": "stdout",
     "output_type": "stream",
     "text": [
      "半馬\n",
      "K速 = 274.203 secs = 04:34.203\n",
      "圈速 = 109.681 secs = 01:49.681\n",
      "10K\n",
      "K速 = 256.850 secs = 04:16.850\n",
      "圈速 = 102.740 secs = 01:42.740\n"
     ]
    }
   ],
   "source": [
    "def pace(k, s=0):\n",
    "    p = s / k\n",
    "    pm, ps = divmod(p, 60)\n",
    "    return p, int(pm), ps\n",
    "\n",
    "def lapspeed(k, s=0):\n",
    "    return pace(k, 0.4*s)\n",
    "\n",
    "records = {'半馬': {'k':21.0975, 't':5785},\n",
    "           '10K': {'k':10, 't':2568.5}}\n",
    "\n",
    "for r in records:\n",
    "    print(r)\n",
    "    p, pm, ps = pace(records[r]['k'], records[r]['t'])\n",
    "    print(f'K速 = {p:.3f} secs = {pm:02}:{ps:02.3f}')\n",
    "    p, pm, ps = lapspeed(records[r]['k'], records[r]['t'])\n",
    "    print(f'圈速 = {p:.3f} secs = {pm:02}:{ps:02.3f}')"
   ]
  },
  {
   "cell_type": "code",
   "execution_count": 7,
   "id": "b7e45f72",
   "metadata": {},
   "outputs": [
    {
     "name": "stdout",
     "output_type": "stream",
     "text": [
      "半馬\n"
     ]
    },
    {
     "ename": "NameError",
     "evalue": "name 'kkkk' is not defined",
     "output_type": "error",
     "traceback": [
      "\u001b[1;31m---------------------------------------------------------------------------\u001b[0m",
      "\u001b[1;31mNameError\u001b[0m                                 Traceback (most recent call last)",
      "\u001b[1;32m<ipython-input-7-e1e163ec6c24>\u001b[0m in \u001b[0;36m<module>\u001b[1;34m\u001b[0m\n\u001b[0;32m     12\u001b[0m \u001b[0mr\u001b[0m \u001b[1;33m=\u001b[0m \u001b[1;34m'半馬'\u001b[0m\u001b[1;33m\u001b[0m\u001b[1;33m\u001b[0m\u001b[0m\n\u001b[0;32m     13\u001b[0m \u001b[0mprint\u001b[0m\u001b[1;33m(\u001b[0m\u001b[0mr\u001b[0m\u001b[1;33m)\u001b[0m\u001b[1;33m\u001b[0m\u001b[1;33m\u001b[0m\u001b[0m\n\u001b[1;32m---> 14\u001b[1;33m \u001b[0mp\u001b[0m\u001b[1;33m,\u001b[0m \u001b[0mpm\u001b[0m\u001b[1;33m,\u001b[0m \u001b[0mps\u001b[0m \u001b[1;33m=\u001b[0m \u001b[0mpace\u001b[0m\u001b[1;33m(\u001b[0m\u001b[0mrecords\u001b[0m\u001b[1;33m[\u001b[0m\u001b[0mr\u001b[0m\u001b[1;33m]\u001b[0m\u001b[1;33m[\u001b[0m\u001b[1;34m'k'\u001b[0m\u001b[1;33m]\u001b[0m\u001b[1;33m,\u001b[0m \u001b[0mrecords\u001b[0m\u001b[1;33m[\u001b[0m\u001b[0mr\u001b[0m\u001b[1;33m]\u001b[0m\u001b[1;33m[\u001b[0m\u001b[1;34m't'\u001b[0m\u001b[1;33m]\u001b[0m\u001b[1;33m)\u001b[0m\u001b[1;33m\u001b[0m\u001b[1;33m\u001b[0m\u001b[0m\n\u001b[0m",
      "\u001b[1;32m<ipython-input-7-e1e163ec6c24>\u001b[0m in \u001b[0;36mpace\u001b[1;34m(k, s)\u001b[0m\n\u001b[0;32m      1\u001b[0m \u001b[1;32mdef\u001b[0m \u001b[0mpace\u001b[0m\u001b[1;33m(\u001b[0m\u001b[0mk\u001b[0m\u001b[1;33m,\u001b[0m \u001b[0ms\u001b[0m\u001b[1;33m=\u001b[0m\u001b[1;36m0\u001b[0m\u001b[1;33m)\u001b[0m\u001b[1;33m:\u001b[0m\u001b[1;33m\u001b[0m\u001b[1;33m\u001b[0m\u001b[0m\n\u001b[1;32m----> 2\u001b[1;33m     \u001b[0mp\u001b[0m \u001b[1;33m=\u001b[0m \u001b[0ms\u001b[0m \u001b[1;33m/\u001b[0m \u001b[0mkkkk\u001b[0m\u001b[1;33m\u001b[0m\u001b[1;33m\u001b[0m\u001b[0m\n\u001b[0m\u001b[0;32m      3\u001b[0m     \u001b[0mpm\u001b[0m\u001b[1;33m,\u001b[0m \u001b[0mps\u001b[0m \u001b[1;33m=\u001b[0m \u001b[0mdivmod\u001b[0m\u001b[1;33m(\u001b[0m\u001b[0mp\u001b[0m\u001b[1;33m,\u001b[0m \u001b[1;36m60\u001b[0m\u001b[1;33m)\u001b[0m\u001b[1;33m\u001b[0m\u001b[1;33m\u001b[0m\u001b[0m\n\u001b[0;32m      4\u001b[0m     \u001b[1;32mreturn\u001b[0m \u001b[0mp\u001b[0m\u001b[1;33m,\u001b[0m \u001b[0mint\u001b[0m\u001b[1;33m(\u001b[0m\u001b[0mpm\u001b[0m\u001b[1;33m)\u001b[0m\u001b[1;33m,\u001b[0m \u001b[0mps\u001b[0m\u001b[1;33m\u001b[0m\u001b[1;33m\u001b[0m\u001b[0m\n\u001b[0;32m      5\u001b[0m \u001b[1;33m\u001b[0m\u001b[0m\n",
      "\u001b[1;31mNameError\u001b[0m: name 'kkkk' is not defined"
     ]
    }
   ],
   "source": [
    "def pace(k, s=0):\n",
    "    p = s / kkkk\n",
    "    pm, ps = divmod(p, 60)\n",
    "    return p, int(pm), ps\n",
    "\n",
    "def lapspeed(k, s=0):\n",
    "    return pace(k, 0.4*s)\n",
    "\n",
    "records = {'半馬': {'k':21.0975, 't':5785},\n",
    "           '10K': {'k':10, 't':2568.5}}\n",
    "\n",
    "r = '半馬'\n",
    "print(r)\n",
    "p, pm, ps = pace(records[r]['k'], records[r]['t'])"
   ]
  },
  {
   "cell_type": "code",
   "execution_count": 8,
   "id": "1531d176",
   "metadata": {},
   "outputs": [
    {
     "name": "stdout",
     "output_type": "stream",
     "text": [
      "return of pace(21,100) is (4.761904761904762, 0, 4.761904761904762)\n",
      "半馬\n",
      "K速 = 274.203 secs = 04:34.203\n",
      "圈速 = 109.681 secs = 01:49.681\n",
      "10K\n",
      "K速 = 256.850 secs = 04:16.850\n",
      "圈速 = 102.740 secs = 01:42.740\n"
     ]
    }
   ],
   "source": [
    "def pace(k, s=0):\n",
    "    p = s / k\n",
    "    pm, ps = divmod(p, 60)\n",
    "    return p, int(pm), ps\n",
    "\n",
    "def lapspeed(k, s=0):\n",
    "    return pace(k, 0.4*s)\n",
    "\n",
    "records = {'半馬': {'k':21.0975, 't':5785},\n",
    "           '10K': {'k':10, 't':2568.5}}\n",
    "\n",
    "print(f'return of pace(21,100) is {pace(21,100)}')\n",
    "for r in records:\n",
    "    print(r)\n",
    "    x = pace(records[r]['k'], records[r]['t'])\n",
    "    print(f'K速 = {x[0]:.3f} secs = {x[1]:02}:{x[2]:02.3f}')\n",
    "    p, pm, ps = lapspeed(records[r]['k'], records[r]['t'])\n",
    "    print(f'圈速 = {p:.3f} secs = {pm:02}:{ps:02.3f}')"
   ]
  },
  {
   "cell_type": "code",
   "execution_count": 2,
   "id": "850a4cd3",
   "metadata": {},
   "outputs": [
    {
     "name": "stdout",
     "output_type": "stream",
     "text": [
      "半馬\n",
      "K速 = 274.203 secs = 4.57分\n",
      "圈速 = 109.681 secs = 1.83分\n",
      "10K\n",
      "K速 = 256.850 secs = 4.28分\n",
      "圈速 = 102.740 secs = 1.71分\n"
     ]
    }
   ],
   "source": [
    "def pace(k, s=0):\n",
    "    p = s / k\n",
    "    pm, ps = divmod(p, 60)\n",
    "    return p, int(pm), ps\n",
    "\n",
    "def lapspeed(k, s=0):\n",
    "    return pace(k, 0.4*s)\n",
    "\n",
    "records = {'半馬': {'k':21.0975, 't':5785},\n",
    "           '10K': {'k':10, 't':2568.5}}\n",
    "\n",
    "for r in records:\n",
    "    print(r)\n",
    "    p, _, _ = pace(records[r]['k'], records[r]['t'])\n",
    "    print(f'K速 = {p:.3f} secs = {p/60:0.2f}分')\n",
    "    p, *_ = lapspeed(records[r]['k'], records[r]['t'])\n",
    "    print(f'圈速 = {p:.3f} secs = {p/60:0.2f}分')"
   ]
  },
  {
   "cell_type": "code",
   "execution_count": 4,
   "id": "0f28377f",
   "metadata": {},
   "outputs": [
    {
     "name": "stdout",
     "output_type": "stream",
     "text": [
      "半馬\n",
      "K速 = 274.203 secs = 04:34.203\n",
      "圈速 = 109.681 secs = 01:49.681\n",
      "10K\n",
      "K速 = 256.850 secs = 04:16.850\n",
      "圈速 = 102.740 secs = 01:42.740\n"
     ]
    }
   ],
   "source": [
    "def pace(k, s=0):\n",
    "    p = s / k\n",
    "    pm, ps = divmod(p, 60)\n",
    "    return p, int(pm), ps\n",
    "\n",
    "def lapspeed(k, s=0):\n",
    "    return pace(k, 0.4*s)\n",
    "\n",
    "records = {'半馬': {'k':21.0975, 't':5785},\n",
    "           '10K': {'k':10, 't':2568.5}}\n",
    "\n",
    "for r in records:\n",
    "    print(r)\n",
    "    p, pm, ps = pace(s=records[r]['t'], k=records[r]['k'])\n",
    "    print(f'K速 = {p:.3f} secs = {pm:02}:{ps:02.3f}')\n",
    "    p, pm, ps = lapspeed(records[r]['k'], records[r]['t'])\n",
    "    print(f'圈速 = {p:.3f} secs = {pm:02}:{ps:02.3f}')"
   ]
  },
  {
   "cell_type": "code",
   "execution_count": 5,
   "id": "c5c36bfb",
   "metadata": {},
   "outputs": [
    {
     "ename": "SyntaxError",
     "evalue": "non-default argument follows default argument (<ipython-input-5-9d8fc480c7a3>, line 1)",
     "output_type": "error",
     "traceback": [
      "\u001b[1;36m  File \u001b[1;32m\"<ipython-input-5-9d8fc480c7a3>\"\u001b[1;36m, line \u001b[1;32m1\u001b[0m\n\u001b[1;33m    def pace(s=0, k):\u001b[0m\n\u001b[1;37m            ^\u001b[0m\n\u001b[1;31mSyntaxError\u001b[0m\u001b[1;31m:\u001b[0m non-default argument follows default argument\n"
     ]
    }
   ],
   "source": [
    "def pace(s=0, k):\n",
    "    p = s / k\n",
    "    pm, ps = divmod(p, 60)\n",
    "    return p, int(pm), ps"
   ]
  },
  {
   "attachments": {},
   "cell_type": "markdown",
   "id": "368c7cdf",
   "metadata": {},
   "source": [
    "## Function Multiple Arguments"
   ]
  },
  {
   "cell_type": "code",
   "execution_count": 6,
   "id": "c21c64df",
   "metadata": {},
   "outputs": [],
   "source": [
    "def func(a, b, *args, **kwargs):\n",
    "    print(f'a is {a}')\n",
    "    print(f'b is {b}')\n",
    "    print(f'args is {args}')\n",
    "    print(f'kwargs is {kwargs}')"
   ]
  },
  {
   "cell_type": "code",
   "execution_count": 7,
   "id": "3638539d",
   "metadata": {},
   "outputs": [
    {
     "name": "stdout",
     "output_type": "stream",
     "text": [
      "a is 10\n",
      "b is 20\n",
      "args is (30, 40, 50)\n",
      "kwargs is {}\n"
     ]
    }
   ],
   "source": [
    "func(10, 20, 30, 40, 50)"
   ]
  },
  {
   "cell_type": "code",
   "execution_count": 8,
   "id": "06a9a8cc",
   "metadata": {},
   "outputs": [
    {
     "name": "stdout",
     "output_type": "stream",
     "text": [
      "a is 10\n",
      "b is 20\n",
      "args is (30,)\n",
      "kwargs is {'x': 40, 'y': 50}\n"
     ]
    }
   ],
   "source": [
    "func(10, 20, 30, x=40, y=50)"
   ]
  },
  {
   "cell_type": "code",
   "execution_count": null,
   "id": "e1506e81",
   "metadata": {},
   "outputs": [],
   "source": []
  }
 ],
 "metadata": {
  "kernelspec": {
   "display_name": "Python 3",
   "language": "python",
   "name": "python3"
  },
  "language_info": {
   "codemirror_mode": {
    "name": "ipython",
    "version": 3
   },
   "file_extension": ".py",
   "mimetype": "text/x-python",
   "name": "python",
   "nbconvert_exporter": "python",
   "pygments_lexer": "ipython3",
   "version": "3.6.8"
  }
 },
 "nbformat": 4,
 "nbformat_minor": 5
}
