{
 "cells": [
  {
   "cell_type": "code",
   "execution_count": 2,
   "id": "31241c97",
   "metadata": {},
   "outputs": [
    {
     "name": "stdout",
     "output_type": "stream",
     "text": [
      ".\\trees\\train ['leaf', 'tree']\n",
      "E:\\pypm02\\trees\\train ['leaf', 'tree']\n"
     ]
    }
   ],
   "source": [
    "import os\n",
    "p = os.path.join('.', 'trees', 'train')\n",
    "print(p, os.listdir(p))\n",
    "p = os.path.join(os.getcwd(), 'trees', 'train')\n",
    "print(p, os.listdir(p))"
   ]
  },
  {
   "cell_type": "code",
   "execution_count": 4,
   "id": "627dc918",
   "metadata": {},
   "outputs": [
    {
     "name": "stdout",
     "output_type": "stream",
     "text": [
      "./*.txt ['.\\\\reading.txt', '.\\\\reading_2.txt']\n",
      "trees\\train\\* ['trees\\\\train\\\\leaf', 'trees\\\\train\\\\tree']\n"
     ]
    }
   ],
   "source": [
    "import glob\n",
    "import os\n",
    "\n",
    "print('./*.txt', glob.glob('./*.txt'))\n",
    "p = os.path.join('trees', 'train', '*')\n",
    "print(p, glob.glob(p))"
   ]
  },
  {
   "cell_type": "code",
   "execution_count": null,
   "id": "644e7696",
   "metadata": {},
   "outputs": [],
   "source": []
  }
 ],
 "metadata": {
  "kernelspec": {
   "display_name": "Python 3",
   "language": "python",
   "name": "python3"
  },
  "language_info": {
   "codemirror_mode": {
    "name": "ipython",
    "version": 3
   },
   "file_extension": ".py",
   "mimetype": "text/x-python",
   "name": "python",
   "nbconvert_exporter": "python",
   "pygments_lexer": "ipython3",
   "version": "3.6.8"
  }
 },
 "nbformat": 4,
 "nbformat_minor": 5
}
