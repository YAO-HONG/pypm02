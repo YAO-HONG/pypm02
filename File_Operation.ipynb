{
 "cells": [
  {
   "cell_type": "code",
   "execution_count": 1,
   "id": "f4db5440",
   "metadata": {},
   "outputs": [
    {
     "name": "stdout",
     "output_type": "stream",
     "text": [
      "Whe\n",
      "n I was young,\n",
      "\n",
      "I like reading but understand few.\n",
      "I think this is wasting time so I exercise more.\n",
      "程式語言設計。\n",
      "\n",
      "['Whe', 'n I was young,\\n', 'I like reading but understand few.\\nI think this is wasting time so I exercise more.\\n程式語言設計。\\n']\n"
     ]
    }
   ],
   "source": [
    "text = []\n",
    "with open('reading.txt', 'r', encoding='utf-8') as f:\n",
    "    x = f.read(3)\n",
    "    print(x)\n",
    "    text.append(x)\n",
    "    x = f.readline()\n",
    "    print(x)\n",
    "    text.append(x)\n",
    "    x = f.read()\n",
    "    print(x)\n",
    "    text.append(x)\n",
    "print(text)"
   ]
  },
  {
   "cell_type": "code",
   "execution_count": 2,
   "id": "9a901541",
   "metadata": {},
   "outputs": [
    {
     "name": "stdout",
     "output_type": "stream",
     "text": [
      "['Whe', 'n I was young,\\n', 'I like reading but understand few.\\nI think this is wasting time so I exercise more.\\n程式語言設計。\\n', 'No']\n"
     ]
    }
   ],
   "source": [
    "text.append('No')\n",
    "print(text)"
   ]
  },
  {
   "cell_type": "code",
   "execution_count": 5,
   "id": "f01582bd",
   "metadata": {},
   "outputs": [],
   "source": [
    "with open('reading_2.txt', 'w', encoding='utf-8') as f:\n",
    "    for line in text:\n",
    "        f.write(line)"
   ]
  },
  {
   "cell_type": "code",
   "execution_count": 7,
   "id": "80c974f1",
   "metadata": {},
   "outputs": [],
   "source": [
    "with open('reading_2.txt', 'w', encoding='utf-8') as f:\n",
    "    f.writelines(text)"
   ]
  },
  {
   "cell_type": "code",
   "execution_count": 8,
   "id": "c83678de",
   "metadata": {},
   "outputs": [],
   "source": [
    "with open('reading_2.txt', 'a', encoding='utf-8') as f:\n",
    "    f.write(' excuse!')"
   ]
  },
  {
   "cell_type": "code",
   "execution_count": null,
   "id": "c9bbedd2",
   "metadata": {},
   "outputs": [],
   "source": []
  }
 ],
 "metadata": {
  "kernelspec": {
   "display_name": "Python 3",
   "language": "python",
   "name": "python3"
  },
  "language_info": {
   "codemirror_mode": {
    "name": "ipython",
    "version": 3
   },
   "file_extension": ".py",
   "mimetype": "text/x-python",
   "name": "python",
   "nbconvert_exporter": "python",
   "pygments_lexer": "ipython3",
   "version": "3.6.8"
  }
 },
 "nbformat": 4,
 "nbformat_minor": 5
}
